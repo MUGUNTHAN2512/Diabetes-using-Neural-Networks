{
 "cells": [
  {
   "cell_type": "code",
   "execution_count": 1,
   "id": "4e2c4f17",
   "metadata": {},
   "outputs": [],
   "source": [
    "import pandas as pd\n",
    "\n",
    "# keras  - to build neural network like input layer , hidden layer and output layer - framework\n",
    "# whenever we are using keras, tensorflow will work in backend to perform\n",
    "# tensorflow - to process the neural network and gives output - framework\n",
    "\n",
    "import tensorflow as ts\n",
    "import numpy as np\n",
    "from numpy import loadtxt"
   ]
  },
  {
   "cell_type": "code",
   "execution_count": 2,
   "id": "2e6f7480",
   "metadata": {},
   "outputs": [
    {
     "name": "stdout",
     "output_type": "stream",
     "text": [
      "2.13.0\n"
     ]
    }
   ],
   "source": [
    "print(ts.__version__)  # tensorflow version installed"
   ]
  },
  {
   "cell_type": "code",
   "execution_count": 3,
   "id": "b3b38e1b",
   "metadata": {},
   "outputs": [
    {
     "data": {
      "text/plain": [
       "array([[  6.   , 148.   ,  72.   , ...,   0.627,  50.   ,   1.   ],\n",
       "       [  1.   ,  85.   ,  66.   , ...,   0.351,  31.   ,   0.   ],\n",
       "       [  8.   , 183.   ,  64.   , ...,   0.672,  32.   ,   1.   ],\n",
       "       ...,\n",
       "       [  5.   , 121.   ,  72.   , ...,   0.245,  30.   ,   0.   ],\n",
       "       [  1.   , 126.   ,  60.   , ...,   0.349,  47.   ,   1.   ],\n",
       "       [  1.   ,  93.   ,  70.   , ...,   0.315,  23.   ,   0.   ]])"
      ]
     },
     "execution_count": 3,
     "metadata": {},
     "output_type": "execute_result"
    }
   ],
   "source": [
    "# import csv using load text \n",
    "# use delimiter (,) to separate using commas\n",
    "data = loadtxt('diabetes2.csv', delimiter=',')     # Read the dataset\n",
    "data"
   ]
  },
  {
   "cell_type": "code",
   "execution_count": 4,
   "id": "325cee34",
   "metadata": {},
   "outputs": [
    {
     "data": {
      "text/plain": [
       "(768, 9)"
      ]
     },
     "execution_count": 4,
     "metadata": {},
     "output_type": "execute_result"
    }
   ],
   "source": [
    "data.shape"
   ]
  },
  {
   "cell_type": "code",
   "execution_count": 5,
   "id": "e59ee00f",
   "metadata": {},
   "outputs": [],
   "source": [
    "X=data[:,0:8] #  in this case it wont take as 8 beacuse (n-1) so 8-1 = 7.. it takes till 7th column   # inputs"
   ]
  },
  {
   "cell_type": "code",
   "execution_count": 6,
   "id": "9c7451a8",
   "metadata": {},
   "outputs": [],
   "source": [
    "Y=data[:,8] # only targets or labels"
   ]
  },
  {
   "cell_type": "code",
   "execution_count": 7,
   "id": "dc50c7b0",
   "metadata": {},
   "outputs": [
    {
     "data": {
      "text/plain": [
       "array([1., 0., 1., 0., 1., 0., 1., 0., 1., 1., 0., 1., 0., 1., 1., 1., 1.,\n",
       "       1., 0., 1., 0., 0., 1., 1., 1., 1., 1., 0., 0., 0., 0., 1., 0., 0.,\n",
       "       0., 0., 0., 1., 1., 1., 0., 0., 0., 1., 0., 1., 0., 0., 1., 0., 0.,\n",
       "       0., 0., 1., 0., 0., 1., 0., 0., 0., 0., 1., 0., 0., 1., 0., 1., 0.,\n",
       "       0., 0., 1., 0., 1., 0., 0., 0., 0., 0., 1., 0., 0., 0., 0., 0., 1.,\n",
       "       0., 0., 0., 1., 0., 0., 0., 0., 1., 0., 0., 0., 0., 0., 1., 1., 0.,\n",
       "       0., 0., 0., 0., 0., 0., 0., 1., 1., 1., 0., 0., 1., 1., 1., 0., 0.,\n",
       "       0., 1., 0., 0., 0., 1., 1., 0., 0., 1., 1., 1., 1., 1., 0., 0., 0.,\n",
       "       0., 0., 0., 0., 0., 0., 0., 1., 0., 0., 0., 0., 0., 0., 0., 0., 1.,\n",
       "       0., 1., 1., 0., 0., 0., 1., 0., 0., 0., 0., 1., 1., 0., 0., 0., 0.,\n",
       "       1., 1., 0., 0., 0., 1., 0., 1., 0., 1., 0., 0., 0., 0., 0., 1., 1.,\n",
       "       1., 1., 1., 0., 0., 1., 1., 0., 1., 0., 1., 1., 1., 0., 0., 0., 0.,\n",
       "       0., 0., 1., 1., 0., 1., 0., 0., 0., 1., 1., 1., 1., 0., 1., 1., 1.,\n",
       "       1., 0., 0., 0., 0., 0., 1., 0., 0., 1., 1., 0., 0., 0., 1., 1., 1.,\n",
       "       1., 0., 0., 0., 1., 1., 0., 1., 0., 0., 0., 0., 0., 0., 0., 0., 1.,\n",
       "       1., 0., 0., 0., 1., 0., 1., 0., 0., 1., 0., 1., 0., 0., 1., 1., 0.,\n",
       "       0., 0., 0., 0., 1., 0., 0., 0., 1., 0., 0., 1., 1., 0., 0., 1., 0.,\n",
       "       0., 0., 1., 1., 1., 0., 0., 1., 0., 1., 0., 1., 1., 0., 1., 0., 0.,\n",
       "       1., 0., 1., 1., 0., 0., 1., 0., 1., 0., 0., 1., 0., 1., 0., 1., 1.,\n",
       "       1., 0., 0., 1., 0., 1., 0., 0., 0., 1., 0., 0., 0., 0., 1., 1., 1.,\n",
       "       0., 0., 0., 0., 0., 0., 0., 0., 0., 1., 0., 0., 0., 0., 0., 1., 1.,\n",
       "       1., 0., 1., 1., 0., 0., 1., 0., 0., 1., 0., 0., 1., 1., 0., 0., 0.,\n",
       "       0., 1., 0., 0., 1., 0., 0., 0., 0., 0., 0., 0., 1., 1., 1., 0., 0.,\n",
       "       1., 0., 0., 1., 0., 0., 1., 0., 1., 1., 0., 1., 0., 1., 0., 1., 0.,\n",
       "       1., 1., 0., 0., 0., 0., 1., 1., 0., 1., 0., 1., 0., 0., 0., 0., 1.,\n",
       "       1., 0., 1., 0., 1., 0., 0., 0., 0., 0., 1., 0., 0., 0., 0., 1., 0.,\n",
       "       0., 1., 1., 1., 0., 0., 1., 0., 0., 1., 0., 0., 0., 1., 0., 0., 1.,\n",
       "       0., 0., 0., 0., 0., 0., 0., 0., 0., 1., 0., 0., 0., 0., 0., 0., 0.,\n",
       "       1., 0., 0., 0., 1., 0., 0., 0., 1., 1., 0., 0., 0., 0., 0., 0., 0.,\n",
       "       1., 0., 0., 0., 0., 1., 0., 0., 0., 1., 0., 0., 0., 1., 0., 0., 0.,\n",
       "       1., 0., 0., 0., 0., 1., 1., 0., 0., 0., 0., 0., 0., 1., 0., 0., 0.,\n",
       "       0., 0., 0., 0., 0., 0., 0., 0., 1., 0., 0., 0., 1., 1., 1., 1., 0.,\n",
       "       0., 1., 1., 0., 0., 0., 0., 0., 0., 0., 0., 0., 0., 0., 0., 0., 1.,\n",
       "       1., 0., 0., 0., 0., 0., 0., 0., 1., 0., 0., 0., 0., 0., 0., 0., 1.,\n",
       "       0., 1., 1., 0., 0., 0., 1., 0., 1., 0., 1., 0., 1., 0., 1., 0., 0.,\n",
       "       1., 0., 0., 1., 0., 0., 0., 0., 1., 1., 0., 1., 0., 0., 0., 0., 1.,\n",
       "       1., 0., 1., 0., 0., 0., 1., 1., 0., 0., 0., 0., 0., 0., 0., 0., 0.,\n",
       "       0., 1., 0., 0., 0., 0., 1., 0., 0., 1., 0., 0., 0., 1., 0., 0., 0.,\n",
       "       1., 1., 1., 0., 0., 0., 0., 0., 0., 1., 0., 0., 0., 1., 0., 1., 1.,\n",
       "       1., 1., 0., 1., 1., 0., 0., 0., 0., 0., 0., 0., 1., 1., 0., 1., 0.,\n",
       "       0., 1., 0., 1., 0., 0., 0., 0., 0., 1., 0., 1., 0., 1., 0., 1., 1.,\n",
       "       0., 0., 0., 0., 1., 1., 0., 0., 0., 1., 0., 1., 1., 0., 0., 1., 0.,\n",
       "       0., 1., 1., 0., 0., 1., 0., 0., 1., 0., 0., 0., 0., 0., 0., 0., 1.,\n",
       "       1., 1., 0., 0., 0., 0., 0., 0., 1., 1., 0., 0., 1., 0., 0., 1., 0.,\n",
       "       1., 1., 1., 0., 0., 1., 1., 1., 0., 1., 0., 1., 0., 1., 0., 0., 0.,\n",
       "       0., 1., 0.])"
      ]
     },
     "execution_count": 7,
     "metadata": {},
     "output_type": "execute_result"
    }
   ],
   "source": [
    "Y # 0 - not attacked by diabetes   1 - attacked ie patient"
   ]
  },
  {
   "cell_type": "code",
   "execution_count": 8,
   "id": "090f1a2d",
   "metadata": {},
   "outputs": [
    {
     "data": {
      "text/plain": [
       "array([[  6.   , 148.   ,  72.   , ...,  33.6  ,   0.627,  50.   ],\n",
       "       [  1.   ,  85.   ,  66.   , ...,  26.6  ,   0.351,  31.   ],\n",
       "       [  8.   , 183.   ,  64.   , ...,  23.3  ,   0.672,  32.   ],\n",
       "       ...,\n",
       "       [  5.   , 121.   ,  72.   , ...,  26.2  ,   0.245,  30.   ],\n",
       "       [  1.   , 126.   ,  60.   , ...,  30.1  ,   0.349,  47.   ],\n",
       "       [  1.   ,  93.   ,  70.   , ...,  30.4  ,   0.315,  23.   ]])"
      ]
     },
     "execution_count": 8,
     "metadata": {},
     "output_type": "execute_result"
    }
   ],
   "source": [
    "X"
   ]
  },
  {
   "cell_type": "code",
   "execution_count": 9,
   "id": "128a9217",
   "metadata": {},
   "outputs": [],
   "source": [
    "# To split data for train and test\n",
    "from sklearn.model_selection import train_test_split"
   ]
  },
  {
   "cell_type": "code",
   "execution_count": 10,
   "id": "0c024874",
   "metadata": {},
   "outputs": [],
   "source": [
    "xtrain, ytest, train_targets, test_targets = train_test_split(X,Y,test_size=0.25, random_state = 00)"
   ]
  },
  {
   "cell_type": "code",
   "execution_count": 11,
   "id": "a5283593",
   "metadata": {},
   "outputs": [
    {
     "data": {
      "text/plain": [
       "(576, 8)"
      ]
     },
     "execution_count": 11,
     "metadata": {},
     "output_type": "execute_result"
    }
   ],
   "source": [
    "xtrain.shape"
   ]
  },
  {
   "cell_type": "code",
   "execution_count": 12,
   "id": "c36faba0",
   "metadata": {},
   "outputs": [
    {
     "data": {
      "text/plain": [
       "(192, 8)"
      ]
     },
     "execution_count": 12,
     "metadata": {},
     "output_type": "execute_result"
    }
   ],
   "source": [
    "ytest.shape"
   ]
  },
  {
   "cell_type": "code",
   "execution_count": 13,
   "id": "276599a1",
   "metadata": {},
   "outputs": [
    {
     "data": {
      "text/plain": [
       "(192,)"
      ]
     },
     "execution_count": 13,
     "metadata": {},
     "output_type": "execute_result"
    }
   ],
   "source": [
    "test_targets.shape"
   ]
  },
  {
   "cell_type": "code",
   "execution_count": 14,
   "id": "084c3a92",
   "metadata": {},
   "outputs": [
    {
     "data": {
      "text/plain": [
       "(192, 8)"
      ]
     },
     "execution_count": 14,
     "metadata": {},
     "output_type": "execute_result"
    }
   ],
   "source": [
    "ytest.shape"
   ]
  },
  {
   "cell_type": "code",
   "execution_count": 15,
   "id": "3aeeb47c",
   "metadata": {},
   "outputs": [],
   "source": [
    "# import keras to build neural networks\n",
    "from keras.models import Sequential \n",
    "from keras.layers import Conv2D, MaxPool2D, Dense"
   ]
  },
  {
   "cell_type": "code",
   "execution_count": 16,
   "id": "251e71c5",
   "metadata": {},
   "outputs": [],
   "source": [
    "model=Sequential()\n",
    "model.add(Dense(8,input_dim=8, activation='relu'))   # input\n",
    "model.add(Dense(8,activation='relu'))  #  hidden neuron\n",
    "model.add(Dense(1, activation='sigmoid'))  # use sigmoid incase of output is 0 or 1/ true or false"
   ]
  },
  {
   "cell_type": "code",
   "execution_count": 17,
   "id": "bd7a1bce",
   "metadata": {},
   "outputs": [],
   "source": [
    "# to compute loss\n",
    "\n",
    "model.compile(loss='binary_crossentropy', optimizer='adam', metrics = ['accuracy'])"
   ]
  },
  {
   "cell_type": "code",
   "execution_count": 23,
   "id": "60fc5b86",
   "metadata": {},
   "outputs": [
    {
     "name": "stdout",
     "output_type": "stream",
     "text": [
      "Epoch 1/90\n",
      "58/58 [==============================] - 0s 973us/step - loss: 0.5576 - accuracy: 0.7188\n",
      "Epoch 2/90\n",
      "58/58 [==============================] - 0s 1ms/step - loss: 0.5664 - accuracy: 0.7222\n",
      "Epoch 3/90\n",
      "58/58 [==============================] - 0s 995us/step - loss: 0.5708 - accuracy: 0.7083\n",
      "Epoch 4/90\n",
      "58/58 [==============================] - 0s 966us/step - loss: 0.5622 - accuracy: 0.7170\n",
      "Epoch 5/90\n",
      "58/58 [==============================] - 0s 987us/step - loss: 0.5650 - accuracy: 0.7118\n",
      "Epoch 6/90\n",
      "58/58 [==============================] - 0s 948us/step - loss: 0.5565 - accuracy: 0.7118\n",
      "Epoch 7/90\n",
      "58/58 [==============================] - 0s 949us/step - loss: 0.5697 - accuracy: 0.7135\n",
      "Epoch 8/90\n",
      "58/58 [==============================] - 0s 913us/step - loss: 0.5638 - accuracy: 0.7083\n",
      "Epoch 9/90\n",
      "58/58 [==============================] - 0s 969us/step - loss: 0.5583 - accuracy: 0.7188\n",
      "Epoch 10/90\n",
      "58/58 [==============================] - 0s 1ms/step - loss: 0.5526 - accuracy: 0.7153\n",
      "Epoch 11/90\n",
      "58/58 [==============================] - 0s 1ms/step - loss: 0.5531 - accuracy: 0.7101\n",
      "Epoch 12/90\n",
      "58/58 [==============================] - 0s 977us/step - loss: 0.5531 - accuracy: 0.7118\n",
      "Epoch 13/90\n",
      "58/58 [==============================] - 0s 894us/step - loss: 0.5551 - accuracy: 0.7240\n",
      "Epoch 14/90\n",
      "58/58 [==============================] - 0s 987us/step - loss: 0.5554 - accuracy: 0.7083\n",
      "Epoch 15/90\n",
      "58/58 [==============================] - 0s 921us/step - loss: 0.5564 - accuracy: 0.7240\n",
      "Epoch 16/90\n",
      "58/58 [==============================] - 0s 977us/step - loss: 0.5478 - accuracy: 0.7188\n",
      "Epoch 17/90\n",
      "58/58 [==============================] - 0s 996us/step - loss: 0.5534 - accuracy: 0.7153\n",
      "Epoch 18/90\n",
      "58/58 [==============================] - 0s 954us/step - loss: 0.5522 - accuracy: 0.7205\n",
      "Epoch 19/90\n",
      "58/58 [==============================] - 0s 948us/step - loss: 0.5469 - accuracy: 0.7344\n",
      "Epoch 20/90\n",
      "58/58 [==============================] - 0s 946us/step - loss: 0.5475 - accuracy: 0.7240\n",
      "Epoch 21/90\n",
      "58/58 [==============================] - 0s 1ms/step - loss: 0.5473 - accuracy: 0.7188\n",
      "Epoch 22/90\n",
      "58/58 [==============================] - 0s 1ms/step - loss: 0.5460 - accuracy: 0.7170\n",
      "Epoch 23/90\n",
      "58/58 [==============================] - 0s 929us/step - loss: 0.5432 - accuracy: 0.7205\n",
      "Epoch 24/90\n",
      "58/58 [==============================] - 0s 976us/step - loss: 0.5525 - accuracy: 0.7153\n",
      "Epoch 25/90\n",
      "58/58 [==============================] - 0s 1ms/step - loss: 0.5603 - accuracy: 0.6944\n",
      "Epoch 26/90\n",
      "58/58 [==============================] - 0s 1ms/step - loss: 0.5615 - accuracy: 0.7066\n",
      "Epoch 27/90\n",
      "58/58 [==============================] - 0s 1ms/step - loss: 0.5493 - accuracy: 0.7153\n",
      "Epoch 28/90\n",
      "58/58 [==============================] - 0s 1ms/step - loss: 0.5429 - accuracy: 0.7240\n",
      "Epoch 29/90\n",
      "58/58 [==============================] - 0s 1ms/step - loss: 0.5439 - accuracy: 0.7274\n",
      "Epoch 30/90\n",
      "58/58 [==============================] - 0s 876us/step - loss: 0.5486 - accuracy: 0.7309\n",
      "Epoch 31/90\n",
      "58/58 [==============================] - 0s 1ms/step - loss: 0.5450 - accuracy: 0.7257\n",
      "Epoch 32/90\n",
      "58/58 [==============================] - 0s 1ms/step - loss: 0.5455 - accuracy: 0.7188\n",
      "Epoch 33/90\n",
      "58/58 [==============================] - 0s 987us/step - loss: 0.5437 - accuracy: 0.7257\n",
      "Epoch 34/90\n",
      "58/58 [==============================] - 0s 989us/step - loss: 0.5450 - accuracy: 0.7257\n",
      "Epoch 35/90\n",
      "58/58 [==============================] - 0s 928us/step - loss: 0.5488 - accuracy: 0.7153\n",
      "Epoch 36/90\n",
      "58/58 [==============================] - 0s 952us/step - loss: 0.5430 - accuracy: 0.7309\n",
      "Epoch 37/90\n",
      "58/58 [==============================] - 0s 1ms/step - loss: 0.5442 - accuracy: 0.7292\n",
      "Epoch 38/90\n",
      "58/58 [==============================] - 0s 1ms/step - loss: 0.5438 - accuracy: 0.7344\n",
      "Epoch 39/90\n",
      "58/58 [==============================] - 0s 1ms/step - loss: 0.5485 - accuracy: 0.7188\n",
      "Epoch 40/90\n",
      "58/58 [==============================] - 0s 825us/step - loss: 0.5472 - accuracy: 0.7135\n",
      "Epoch 41/90\n",
      "58/58 [==============================] - 0s 1ms/step - loss: 0.5415 - accuracy: 0.7292\n",
      "Epoch 42/90\n",
      "58/58 [==============================] - 0s 1ms/step - loss: 0.5420 - accuracy: 0.7274\n",
      "Epoch 43/90\n",
      "58/58 [==============================] - 0s 995us/step - loss: 0.5384 - accuracy: 0.7326\n",
      "Epoch 44/90\n",
      "58/58 [==============================] - 0s 1ms/step - loss: 0.5426 - accuracy: 0.7188\n",
      "Epoch 45/90\n",
      "58/58 [==============================] - 0s 850us/step - loss: 0.5441 - accuracy: 0.7222\n",
      "Epoch 46/90\n",
      "58/58 [==============================] - 0s 872us/step - loss: 0.5437 - accuracy: 0.7222\n",
      "Epoch 47/90\n",
      "58/58 [==============================] - 0s 1ms/step - loss: 0.5492 - accuracy: 0.7344\n",
      "Epoch 48/90\n",
      "58/58 [==============================] - 0s 982us/step - loss: 0.5414 - accuracy: 0.7222\n",
      "Epoch 49/90\n",
      "58/58 [==============================] - 0s 1ms/step - loss: 0.5392 - accuracy: 0.7326\n",
      "Epoch 50/90\n",
      "58/58 [==============================] - 0s 1ms/step - loss: 0.5396 - accuracy: 0.7153\n",
      "Epoch 51/90\n",
      "58/58 [==============================] - 0s 769us/step - loss: 0.5416 - accuracy: 0.7326\n",
      "Epoch 52/90\n",
      "58/58 [==============================] - 0s 878us/step - loss: 0.5356 - accuracy: 0.7326\n",
      "Epoch 53/90\n",
      "58/58 [==============================] - 0s 1ms/step - loss: 0.5349 - accuracy: 0.7396\n",
      "Epoch 54/90\n",
      "58/58 [==============================] - 0s 1ms/step - loss: 0.5427 - accuracy: 0.7153\n",
      "Epoch 55/90\n",
      "58/58 [==============================] - 0s 942us/step - loss: 0.5337 - accuracy: 0.7361\n",
      "Epoch 56/90\n",
      "58/58 [==============================] - 0s 930us/step - loss: 0.5500 - accuracy: 0.7326\n",
      "Epoch 57/90\n",
      "58/58 [==============================] - 0s 941us/step - loss: 0.5378 - accuracy: 0.7413\n",
      "Epoch 58/90\n",
      "58/58 [==============================] - 0s 931us/step - loss: 0.5348 - accuracy: 0.7326\n",
      "Epoch 59/90\n",
      "58/58 [==============================] - 0s 947us/step - loss: 0.5406 - accuracy: 0.7240\n",
      "Epoch 60/90\n",
      "58/58 [==============================] - 0s 918us/step - loss: 0.5353 - accuracy: 0.7309\n",
      "Epoch 61/90\n",
      "58/58 [==============================] - 0s 931us/step - loss: 0.5441 - accuracy: 0.7274\n",
      "Epoch 62/90\n",
      "58/58 [==============================] - 0s 923us/step - loss: 0.5387 - accuracy: 0.7240\n",
      "Epoch 63/90\n",
      "58/58 [==============================] - 0s 929us/step - loss: 0.5390 - accuracy: 0.7326\n",
      "Epoch 64/90\n",
      "58/58 [==============================] - 0s 879us/step - loss: 0.5381 - accuracy: 0.7413\n",
      "Epoch 65/90\n",
      "58/58 [==============================] - 0s 1ms/step - loss: 0.5347 - accuracy: 0.7274\n",
      "Epoch 66/90\n",
      "58/58 [==============================] - 0s 930us/step - loss: 0.5324 - accuracy: 0.7205\n",
      "Epoch 67/90\n",
      "58/58 [==============================] - 0s 1ms/step - loss: 0.5276 - accuracy: 0.7378\n",
      "Epoch 68/90\n",
      "58/58 [==============================] - 0s 986us/step - loss: 0.5344 - accuracy: 0.7448\n",
      "Epoch 69/90\n",
      "58/58 [==============================] - 0s 922us/step - loss: 0.5333 - accuracy: 0.7361\n",
      "Epoch 70/90\n",
      "58/58 [==============================] - 0s 895us/step - loss: 0.5335 - accuracy: 0.7344\n",
      "Epoch 71/90\n",
      "58/58 [==============================] - 0s 1ms/step - loss: 0.5443 - accuracy: 0.7292\n",
      "Epoch 72/90\n",
      "58/58 [==============================] - 0s 1ms/step - loss: 0.5326 - accuracy: 0.7344\n",
      "Epoch 73/90\n",
      "58/58 [==============================] - 0s 1ms/step - loss: 0.5373 - accuracy: 0.7257\n",
      "Epoch 74/90\n",
      "58/58 [==============================] - 0s 947us/step - loss: 0.5298 - accuracy: 0.7378\n",
      "Epoch 75/90\n",
      "58/58 [==============================] - 0s 878us/step - loss: 0.5303 - accuracy: 0.7326\n",
      "Epoch 76/90\n",
      "58/58 [==============================] - 0s 861us/step - loss: 0.5331 - accuracy: 0.7361\n",
      "Epoch 77/90\n",
      "58/58 [==============================] - 0s 893us/step - loss: 0.5269 - accuracy: 0.7344\n",
      "Epoch 78/90\n",
      "58/58 [==============================] - 0s 890us/step - loss: 0.5290 - accuracy: 0.7431\n",
      "Epoch 79/90\n",
      "58/58 [==============================] - 0s 877us/step - loss: 0.5294 - accuracy: 0.7465\n",
      "Epoch 80/90\n",
      "58/58 [==============================] - 0s 929us/step - loss: 0.5298 - accuracy: 0.7448\n",
      "Epoch 81/90\n",
      "58/58 [==============================] - 0s 961us/step - loss: 0.5371 - accuracy: 0.7361\n",
      "Epoch 82/90\n"
     ]
    },
    {
     "name": "stdout",
     "output_type": "stream",
     "text": [
      "58/58 [==============================] - 0s 935us/step - loss: 0.5285 - accuracy: 0.7378\n",
      "Epoch 83/90\n",
      "58/58 [==============================] - 0s 890us/step - loss: 0.5290 - accuracy: 0.7309\n",
      "Epoch 84/90\n",
      "58/58 [==============================] - 0s 924us/step - loss: 0.5277 - accuracy: 0.7413\n",
      "Epoch 85/90\n",
      "58/58 [==============================] - 0s 956us/step - loss: 0.5289 - accuracy: 0.7378\n",
      "Epoch 86/90\n",
      "58/58 [==============================] - 0s 936us/step - loss: 0.5283 - accuracy: 0.7431\n",
      "Epoch 87/90\n",
      "58/58 [==============================] - 0s 863us/step - loss: 0.5271 - accuracy: 0.7431\n",
      "Epoch 88/90\n",
      "58/58 [==============================] - 0s 905us/step - loss: 0.5283 - accuracy: 0.7413\n",
      "Epoch 89/90\n",
      "58/58 [==============================] - 0s 845us/step - loss: 0.5288 - accuracy: 0.7378\n",
      "Epoch 90/90\n",
      "58/58 [==============================] - 0s 875us/step - loss: 0.5289 - accuracy: 0.7413\n"
     ]
    },
    {
     "data": {
      "text/plain": [
       "<keras.src.callbacks.History at 0x28d3e5741c0>"
      ]
     },
     "execution_count": 23,
     "metadata": {},
     "output_type": "execute_result"
    }
   ],
   "source": [
    "# Now train the model\n",
    "\n",
    "model.fit(xtrain,train_targets, epochs=90, batch_size=10)      # epochs means how many times want to iterate the model"
   ]
  },
  {
   "cell_type": "code",
   "execution_count": 27,
   "id": "cc773572",
   "metadata": {},
   "outputs": [
    {
     "name": "stdout",
     "output_type": "stream",
     "text": [
      "6/6 [==============================] - 0s 2ms/step - loss: 0.5377 - accuracy: 0.7552\n",
      "Accuracy score is: [0.5376900434494019, 0.7552083134651184]\n"
     ]
    }
   ],
   "source": [
    "acc=model.evaluate(ytest,test_targets)\n",
    "print('Accuracy score is:',acc)"
   ]
  }
 ],
 "metadata": {
  "kernelspec": {
   "display_name": "Python 3 (ipykernel)",
   "language": "python",
   "name": "python3"
  },
  "language_info": {
   "codemirror_mode": {
    "name": "ipython",
    "version": 3
   },
   "file_extension": ".py",
   "mimetype": "text/x-python",
   "name": "python",
   "nbconvert_exporter": "python",
   "pygments_lexer": "ipython3",
   "version": "3.9.12"
  }
 },
 "nbformat": 4,
 "nbformat_minor": 5
}
